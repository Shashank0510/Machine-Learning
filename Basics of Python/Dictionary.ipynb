{
 "cells": [
  {
   "cell_type": "markdown",
   "metadata": {},
   "source": [
    "Creating Dictionary"
   ]
  },
  {
   "cell_type": "code",
   "execution_count": 13,
   "metadata": {
    "ExecuteTime": {
     "end_time": "2020-11-15T07:38:49.931905Z",
     "start_time": "2020-11-15T07:38:49.921116Z"
    }
   },
   "outputs": [
    {
     "name": "stdout",
     "output_type": "stream",
     "text": [
      "Creating a Dictionary :  {'Petrol': 1, 'Diesel': 2, 'CNG': 3}\n"
     ]
    }
   ],
   "source": [
    "Fuel_type = {\"Petrol\": 1, \"Diesel\": 2, \"CNG\": 3}\n",
    "print(f'Creating a Dictionary : ', Fuel_type)"
   ]
  },
  {
   "cell_type": "markdown",
   "metadata": {},
   "source": [
    "Accessing Dictionary<br>\n",
    "1. To know the value of the key"
   ]
  },
  {
   "cell_type": "code",
   "execution_count": 14,
   "metadata": {
    "ExecuteTime": {
     "end_time": "2020-11-15T07:38:49.951943Z",
     "start_time": "2020-11-15T07:38:49.943875Z"
    }
   },
   "outputs": [
    {
     "name": "stdout",
     "output_type": "stream",
     "text": [
      "To know the value of the key :  3\n"
     ]
    }
   ],
   "source": [
    "print(f'To know the value of the key : ', Fuel_type[\"CNG\"])"
   ]
  },
  {
   "cell_type": "markdown",
   "metadata": {},
   "source": [
    "2. To access the keys"
   ]
  },
  {
   "cell_type": "code",
   "execution_count": 15,
   "metadata": {
    "ExecuteTime": {
     "end_time": "2020-11-15T07:38:49.968802Z",
     "start_time": "2020-11-15T07:38:49.958938Z"
    }
   },
   "outputs": [
    {
     "name": "stdout",
     "output_type": "stream",
     "text": [
      "To access the keys :  dict_keys(['Petrol', 'Diesel', 'CNG'])\n"
     ]
    }
   ],
   "source": [
    "print(f'To access the keys : ',Fuel_type.keys())"
   ]
  },
  {
   "cell_type": "markdown",
   "metadata": {
    "ExecuteTime": {
     "end_time": "2020-11-15T07:36:02.508874Z",
     "start_time": "2020-11-15T07:36:02.496716Z"
    }
   },
   "source": [
    "3. To access the values"
   ]
  },
  {
   "cell_type": "code",
   "execution_count": 21,
   "metadata": {
    "ExecuteTime": {
     "end_time": "2020-11-15T07:39:00.385633Z",
     "start_time": "2020-11-15T07:39:00.374996Z"
    }
   },
   "outputs": [
    {
     "name": "stdout",
     "output_type": "stream",
     "text": [
      "To access the values :  dict_values([])\n"
     ]
    }
   ],
   "source": [
    "print(f'To access the values : ', Fuel_type.values())"
   ]
  },
  {
   "cell_type": "markdown",
   "metadata": {
    "ExecuteTime": {
     "end_time": "2020-11-15T07:36:46.782363Z",
     "start_time": "2020-11-15T07:36:46.724Z"
    }
   },
   "source": [
    "4. To access both keys and values"
   ]
  },
  {
   "cell_type": "code",
   "execution_count": null,
   "metadata": {
    "ExecuteTime": {
     "end_time": "2020-11-15T07:38:49.992783Z",
     "start_time": "2020-11-15T07:38:49.943Z"
    }
   },
   "outputs": [],
   "source": [
    "print(f'To access both keys and values : ', Fuel_type.items())"
   ]
  },
  {
   "cell_type": "markdown",
   "metadata": {},
   "source": [
    "Modifying Dictionary<br>\n",
    "1. Adding new key value pair"
   ]
  },
  {
   "cell_type": "code",
   "execution_count": null,
   "metadata": {
    "ExecuteTime": {
     "end_time": "2020-11-15T07:38:49.995904Z",
     "start_time": "2020-11-15T07:38:49.947Z"
    }
   },
   "outputs": [],
   "source": [
    "Fuel_type[\"Electric\"] = 4\n",
    "print(f'Adding new key value pair : ',Fuel_type )"
   ]
  },
  {
   "cell_type": "markdown",
   "metadata": {
    "ExecuteTime": {
     "end_time": "2020-11-15T07:38:32.173451Z",
     "start_time": "2020-11-15T07:38:32.158127Z"
    }
   },
   "source": [
    "2. Adding new key value pair using update()"
   ]
  },
  {
   "cell_type": "code",
   "execution_count": 17,
   "metadata": {
    "ExecuteTime": {
     "end_time": "2020-11-15T07:38:50.100705Z",
     "start_time": "2020-11-15T07:38:50.089726Z"
    }
   },
   "outputs": [
    {
     "name": "stdout",
     "output_type": "stream",
     "text": [
      "Adding new key value pair using update() :  {'Petrol': 1, 'Diesel': 2, 'CNG': 3, 'Coal': 5}\n"
     ]
    }
   ],
   "source": [
    "Fuel_type.update({\"Coal\": 5})\n",
    "print(f'Adding new key value pair using update() : ', Fuel_type)"
   ]
  },
  {
   "cell_type": "markdown",
   "metadata": {},
   "source": [
    "3. Modifying existing key"
   ]
  },
  {
   "cell_type": "code",
   "execution_count": 18,
   "metadata": {
    "ExecuteTime": {
     "end_time": "2020-11-15T07:38:50.117660Z",
     "start_time": "2020-11-15T07:38:50.105733Z"
    }
   },
   "outputs": [
    {
     "name": "stdout",
     "output_type": "stream",
     "text": [
      "Modifying existing key :  {'Petrol': 1, 'Diesel': 5, 'CNG': 3, 'Coal': 5}\n"
     ]
    }
   ],
   "source": [
    "Fuel_type[\"Diesel\"] = 5\n",
    "print(f'Modifying existing key : ', Fuel_type)"
   ]
  },
  {
   "cell_type": "markdown",
   "metadata": {},
   "source": [
    " 4. Delete key value pair"
   ]
  },
  {
   "cell_type": "code",
   "execution_count": 19,
   "metadata": {
    "ExecuteTime": {
     "end_time": "2020-11-15T07:38:50.139282Z",
     "start_time": "2020-11-15T07:38:50.131208Z"
    }
   },
   "outputs": [
    {
     "name": "stdout",
     "output_type": "stream",
     "text": [
      "Delete key value pair {'Petrol': 1, 'CNG': 3, 'Coal': 5}\n"
     ]
    }
   ],
   "source": [
    "del Fuel_type[\"Diesel\"]\n",
    "print(f'Delete key value pair', Fuel_type)"
   ]
  },
  {
   "cell_type": "markdown",
   "metadata": {},
   "source": [
    "5. Clear : removes all the key value pair"
   ]
  },
  {
   "cell_type": "code",
   "execution_count": 20,
   "metadata": {
    "ExecuteTime": {
     "end_time": "2020-11-15T07:38:50.175123Z",
     "start_time": "2020-11-15T07:38:50.167112Z"
    }
   },
   "outputs": [
    {
     "name": "stdout",
     "output_type": "stream",
     "text": [
      "Clear :  {}\n"
     ]
    }
   ],
   "source": [
    "Fuel_type.clear()\n",
    "print(f'Clear : ', Fuel_type)"
   ]
  }
 ],
 "metadata": {
  "kernelspec": {
   "display_name": "Python 3",
   "language": "python",
   "name": "python3"
  },
  "language_info": {
   "codemirror_mode": {
    "name": "ipython",
    "version": 3
   },
   "file_extension": ".py",
   "mimetype": "text/x-python",
   "name": "python",
   "nbconvert_exporter": "python",
   "pygments_lexer": "ipython3",
   "version": "3.8.3"
  },
  "toc": {
   "base_numbering": 1,
   "nav_menu": {},
   "number_sections": true,
   "sideBar": true,
   "skip_h1_title": false,
   "title_cell": "Table of Contents",
   "title_sidebar": "Contents",
   "toc_cell": false,
   "toc_position": {},
   "toc_section_display": true,
   "toc_window_display": false
  },
  "varInspector": {
   "cols": {
    "lenName": 16,
    "lenType": 16,
    "lenVar": 40
   },
   "kernels_config": {
    "python": {
     "delete_cmd_postfix": "",
     "delete_cmd_prefix": "del ",
     "library": "var_list.py",
     "varRefreshCmd": "print(var_dic_list())"
    },
    "r": {
     "delete_cmd_postfix": ") ",
     "delete_cmd_prefix": "rm(",
     "library": "var_list.r",
     "varRefreshCmd": "cat(var_dic_list()) "
    }
   },
   "types_to_exclude": [
    "module",
    "function",
    "builtin_function_or_method",
    "instance",
    "_Feature"
   ],
   "window_display": false
  }
 },
 "nbformat": 4,
 "nbformat_minor": 2
}
