{
 "cells": [
  {
   "cell_type": "markdown",
   "metadata": {},
   "source": [
    "Creating a Tuple"
   ]
  },
  {
   "cell_type": "code",
   "execution_count": 12,
   "metadata": {
    "ExecuteTime": {
     "end_time": "2020-11-15T07:43:12.266153Z",
     "start_time": "2020-11-15T07:43:12.249718Z"
    }
   },
   "outputs": [
    {
     "name": "stdout",
     "output_type": "stream",
     "text": [
      "Creating a tuples ((1, 2, 3, 4), ('sam', 'sandy', 'Kadiwal', 'Shashank'), (22, 23, 25, 20), (2500, 2500, 2500, 2500))\n"
     ]
    }
   ],
   "source": [
    "id = (1, 2, 3, 4)\n",
    "name = (\"sam\", \"sandy\", \"Kadiwal\", \"Shashank\")\n",
    "age = (22, 23, 25, 20)\n",
    "salary = (2500, 2500, 2500, 2500)\n",
    "tuples = (id,name,age,salary)\n",
    "print(f'Creating a tuples', tuples)"
   ]
  },
  {
   "cell_type": "markdown",
   "metadata": {},
   "source": [
    "Indexing is same as list"
   ]
  },
  {
   "cell_type": "markdown",
   "metadata": {},
   "source": [
    "### Accessing element<br>\n",
    "Top level"
   ]
  },
  {
   "cell_type": "code",
   "execution_count": 13,
   "metadata": {
    "ExecuteTime": {
     "end_time": "2020-11-15T07:43:12.285278Z",
     "start_time": "2020-11-15T07:43:12.273134Z"
    }
   },
   "outputs": [
    {
     "name": "stdout",
     "output_type": "stream",
     "text": [
      "accessing elements  top level:  ('sam', 'sandy', 'Kadiwal', 'Shashank')\n"
     ]
    }
   ],
   "source": [
    "print(f'accessing elements  top level: ', tuples[1])"
   ]
  },
  {
   "cell_type": "markdown",
   "metadata": {
    "ExecuteTime": {
     "end_time": "2020-11-15T07:42:44.012569Z",
     "start_time": "2020-11-15T07:42:44.003512Z"
    }
   },
   "source": [
    "Sub level"
   ]
  },
  {
   "cell_type": "code",
   "execution_count": 14,
   "metadata": {
    "ExecuteTime": {
     "end_time": "2020-11-15T07:43:12.304096Z",
     "start_time": "2020-11-15T07:43:12.295076Z"
    }
   },
   "outputs": [
    {
     "name": "stdout",
     "output_type": "stream",
     "text": [
      "accessing elements  sub level:  Kadiwal\n"
     ]
    }
   ],
   "source": [
    "print(f'accessing elements  sub level: ', tuples[1][2])"
   ]
  },
  {
   "cell_type": "markdown",
   "metadata": {},
   "source": [
    "Slicing"
   ]
  },
  {
   "cell_type": "code",
   "execution_count": 15,
   "metadata": {
    "ExecuteTime": {
     "end_time": "2020-11-15T07:43:12.323582Z",
     "start_time": "2020-11-15T07:43:12.312158Z"
    }
   },
   "outputs": [
    {
     "name": "stdout",
     "output_type": "stream",
     "text": [
      "Slicing of a tuple:  ((1, 2, 3, 4), ('sam', 'sandy', 'Kadiwal', 'Shashank'), (22, 23, 25, 20))\n"
     ]
    }
   ],
   "source": [
    "print(f'Slicing of a tuple: ', tuples[0:3])"
   ]
  },
  {
   "cell_type": "markdown",
   "metadata": {},
   "source": [
    "### Built in functions<br>\n",
    "Length of tuple"
   ]
  },
  {
   "cell_type": "code",
   "execution_count": 16,
   "metadata": {
    "ExecuteTime": {
     "end_time": "2020-11-15T07:43:12.340040Z",
     "start_time": "2020-11-15T07:43:12.329987Z"
    }
   },
   "outputs": [
    {
     "name": "stdout",
     "output_type": "stream",
     "text": [
      "Length of a tuple:  4\n"
     ]
    }
   ],
   "source": [
    "print(f'Length of a tuple: ', len(tuples))"
   ]
  },
  {
   "cell_type": "code",
   "execution_count": 17,
   "metadata": {
    "ExecuteTime": {
     "end_time": "2020-11-15T07:43:12.353990Z",
     "start_time": "2020-11-15T07:43:12.346011Z"
    }
   },
   "outputs": [],
   "source": [
    "marks = (32, 12, 15, 17, 21)"
   ]
  },
  {
   "cell_type": "markdown",
   "metadata": {},
   "source": [
    "Minimum"
   ]
  },
  {
   "cell_type": "code",
   "execution_count": 18,
   "metadata": {
    "ExecuteTime": {
     "end_time": "2020-11-15T07:43:12.369990Z",
     "start_time": "2020-11-15T07:43:12.360014Z"
    }
   },
   "outputs": [
    {
     "name": "stdout",
     "output_type": "stream",
     "text": [
      "prints minimum from a tuple:  12\n"
     ]
    }
   ],
   "source": [
    "print(f'prints minimum from a tuple: ', min(marks))"
   ]
  },
  {
   "cell_type": "markdown",
   "metadata": {},
   "source": [
    "Maximum"
   ]
  },
  {
   "cell_type": "code",
   "execution_count": 19,
   "metadata": {
    "ExecuteTime": {
     "end_time": "2020-11-15T07:43:12.389011Z",
     "start_time": "2020-11-15T07:43:12.379972Z"
    }
   },
   "outputs": [
    {
     "name": "stdout",
     "output_type": "stream",
     "text": [
      "prints minimum from a tuple:  32\n"
     ]
    }
   ],
   "source": [
    "print(f'prints minimum from a tuple: ', max(marks))"
   ]
  },
  {
   "cell_type": "markdown",
   "metadata": {},
   "source": [
    "Combing two tuple"
   ]
  },
  {
   "cell_type": "code",
   "execution_count": 20,
   "metadata": {
    "ExecuteTime": {
     "end_time": "2020-11-15T07:43:12.403901Z",
     "start_time": "2020-11-15T07:43:12.395880Z"
    }
   },
   "outputs": [
    {
     "name": "stdout",
     "output_type": "stream",
     "text": [
      "Concatenate tuple:  ((1, 2, 3, 4), ('sam', 'sandy', 'Kadiwal', 'Shashank'), (22, 23, 25, 20), (2500, 2500, 2500, 2500), 32, 12, 15, 17, 21)\n"
     ]
    }
   ],
   "source": [
    "print(f'Concatenate tuple: ', tuples + marks)"
   ]
  }
 ],
 "metadata": {
  "kernelspec": {
   "display_name": "Python 3",
   "language": "python",
   "name": "python3"
  },
  "language_info": {
   "codemirror_mode": {
    "name": "ipython",
    "version": 3
   },
   "file_extension": ".py",
   "mimetype": "text/x-python",
   "name": "python",
   "nbconvert_exporter": "python",
   "pygments_lexer": "ipython3",
   "version": "3.8.3"
  },
  "toc": {
   "base_numbering": 1,
   "nav_menu": {},
   "number_sections": true,
   "sideBar": true,
   "skip_h1_title": false,
   "title_cell": "Table of Contents",
   "title_sidebar": "Contents",
   "toc_cell": false,
   "toc_position": {},
   "toc_section_display": true,
   "toc_window_display": false
  },
  "varInspector": {
   "cols": {
    "lenName": 16,
    "lenType": 16,
    "lenVar": 40
   },
   "kernels_config": {
    "python": {
     "delete_cmd_postfix": "",
     "delete_cmd_prefix": "del ",
     "library": "var_list.py",
     "varRefreshCmd": "print(var_dic_list())"
    },
    "r": {
     "delete_cmd_postfix": ") ",
     "delete_cmd_prefix": "rm(",
     "library": "var_list.r",
     "varRefreshCmd": "cat(var_dic_list()) "
    }
   },
   "types_to_exclude": [
    "module",
    "function",
    "builtin_function_or_method",
    "instance",
    "_Feature"
   ],
   "window_display": false
  }
 },
 "nbformat": 4,
 "nbformat_minor": 2
}
