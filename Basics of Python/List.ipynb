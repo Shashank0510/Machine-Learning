{
 "cells": [
  {
   "cell_type": "markdown",
   "metadata": {},
   "source": [
    "Creating a List"
   ]
  },
  {
   "cell_type": "code",
   "execution_count": 10,
   "metadata": {
    "ExecuteTime": {
     "end_time": "2020-11-15T07:33:12.122301Z",
     "start_time": "2020-11-15T07:33:12.105886Z"
    }
   },
   "outputs": [
    {
     "name": "stdout",
     "output_type": "stream",
     "text": [
      "Creating a List: [[1, 2, 3, 4], ['sam', 'sandy', 'shashank', 'kadiwal'], 4]\n"
     ]
    }
   ],
   "source": [
    "id = [1, 2, 3, 4]\n",
    "name = [\"sam\", \"sandy\", \"shashank\", \"kadiwal\"]\n",
    "n = 4\n",
    "lists = [id, name, n]\n",
    "print(f'Creating a List:', lists)"
   ]
  },
  {
   "cell_type": "markdown",
   "metadata": {},
   "source": [
    "Indexing<br>\n",
    "1.Positive"
   ]
  },
  {
   "cell_type": "code",
   "execution_count": 11,
   "metadata": {
    "ExecuteTime": {
     "end_time": "2020-11-15T07:33:12.139300Z",
     "start_time": "2020-11-15T07:33:12.130263Z"
    }
   },
   "outputs": [
    {
     "name": "stdout",
     "output_type": "stream",
     "text": [
      "Positive Indexing: 3\n",
      "Negative Indexing: kadiwal\n"
     ]
    }
   ],
   "source": [
    "print(f'Positive Indexing:', id[2])  # start from left most\n",
    "# 2.Negative\n",
    "print(f'Negative Indexing:', name[-1])  # start from right most"
   ]
  },
  {
   "cell_type": "markdown",
   "metadata": {},
   "source": [
    "Accessing of a list<br>\n",
    "1.Top-level component"
   ]
  },
  {
   "cell_type": "code",
   "execution_count": 12,
   "metadata": {
    "ExecuteTime": {
     "end_time": "2020-11-15T07:33:12.154569Z",
     "start_time": "2020-11-15T07:33:12.147185Z"
    }
   },
   "outputs": [
    {
     "name": "stdout",
     "output_type": "stream",
     "text": [
      "Accessing list from top level component : 4\n"
     ]
    }
   ],
   "source": [
    "print(f'Accessing list from top level component :', lists[2])"
   ]
  },
  {
   "cell_type": "markdown",
   "metadata": {},
   "source": [
    "2.Sub-level component"
   ]
  },
  {
   "cell_type": "code",
   "execution_count": 13,
   "metadata": {
    "ExecuteTime": {
     "end_time": "2020-11-15T07:33:12.170119Z",
     "start_time": "2020-11-15T07:33:12.161142Z"
    }
   },
   "outputs": [
    {
     "name": "stdout",
     "output_type": "stream",
     "text": [
      "Accessing list from sub level component : 1\n"
     ]
    }
   ],
   "source": [
    "print(f'Accessing list from sub level component :', lists[0][0])"
   ]
  },
  {
   "cell_type": "markdown",
   "metadata": {},
   "source": [
    "Modifying a component of list<br>\n",
    "Using Index Value"
   ]
  },
  {
   "cell_type": "code",
   "execution_count": 14,
   "metadata": {
    "ExecuteTime": {
     "end_time": "2020-11-15T07:33:12.191182Z",
     "start_time": "2020-11-15T07:33:12.176144Z"
    }
   },
   "outputs": [
    {
     "name": "stdout",
     "output_type": "stream",
     "text": [
      "Modifying  component of list Using Index Value (top-level):  [[1, 2, 3, 4], ['sam', 'sandy', 'shashank', 'kadiwal'], 5]\n",
      "Modifying  component of list Using Index Value (Sub-level):  [[1, 2, 3, 4], ['Sandeep', 'sandy', 'shashank', 'kadiwal'], 5]\n"
     ]
    }
   ],
   "source": [
    "lists[2] = 5\n",
    "print(f'Modifying  component of list Using Index Value (top-level): ', lists)\n",
    "lists[1][0] = \"Sandeep\"\n",
    "print(f'Modifying  component of list Using Index Value (Sub-level): ', lists)"
   ]
  },
  {
   "cell_type": "markdown",
   "metadata": {},
   "source": [
    "Using inbuilt function: it added element at last<br>\n",
    "append()<br>\n",
    "syntax = list_name[index].append(object)"
   ]
  },
  {
   "cell_type": "markdown",
   "metadata": {},
   "source": [
    "Adding a element to a list"
   ]
  },
  {
   "cell_type": "code",
   "execution_count": 15,
   "metadata": {
    "ExecuteTime": {
     "end_time": "2020-11-15T07:33:12.209014Z",
     "start_time": "2020-11-15T07:33:12.198046Z"
    }
   },
   "outputs": [
    {
     "name": "stdout",
     "output_type": "stream",
     "text": [
      "Adding a element to a list :  [[1, 2, 3, 4, 5], ['Sandeep', 'sandy', 'shashank', 'kadiwal'], 5]\n",
      "Adding a element to a list :  [[1, 2, 3, 4, 5], ['Sandeep', 'sandy', 'shashank', 'kadiwal', 'undefined'], 5]\n"
     ]
    }
   ],
   "source": [
    "lists[0].append(5)\n",
    "print(f'Adding a element to a list : ', lists)\n",
    "lists[1].append(\"undefined\")\n",
    "print(f'Adding a element to a list : ', lists)"
   ]
  },
  {
   "cell_type": "markdown",
   "metadata": {},
   "source": [
    "Adding a list to a List"
   ]
  },
  {
   "cell_type": "code",
   "execution_count": 16,
   "metadata": {
    "ExecuteTime": {
     "end_time": "2020-11-15T07:33:12.225973Z",
     "start_time": "2020-11-15T07:33:12.215056Z"
    }
   },
   "outputs": [
    {
     "name": "stdout",
     "output_type": "stream",
     "text": [
      "Adding a list to a List:  [[1, 2, 3, 4, 5], ['Sandeep', 'sandy', 'shashank', 'kadiwal', 'undefined'], 5, [22, 23, 21, 30, 25]]\n"
     ]
    }
   ],
   "source": [
    "age = [22, 23, 21, 30, 25]\n",
    "lists.append(age)\n",
    "print(f'Adding a list to a List: ', lists)"
   ]
  },
  {
   "cell_type": "markdown",
   "metadata": {},
   "source": [
    "Using insert(): it adds element to a specified position"
   ]
  },
  {
   "cell_type": "code",
   "execution_count": 17,
   "metadata": {
    "ExecuteTime": {
     "end_time": "2020-11-15T07:33:12.245919Z",
     "start_time": "2020-11-15T07:33:12.233953Z"
    }
   },
   "outputs": [
    {
     "name": "stdout",
     "output_type": "stream",
     "text": [
      "[[6, 1, 2, 3, 4, 5], ['Sandeep', 'sandy', 'shashank', 'kadiwal', 'undefined'], 5, [22, 23, 21, 30, 25]]\n"
     ]
    }
   ],
   "source": [
    "lists[0].insert(0, 6)\n",
    "print(lists)"
   ]
  },
  {
   "cell_type": "markdown",
   "metadata": {},
   "source": [
    "Removing elements from a lists<br>\n",
    "1. del : removes a element at a specified index number"
   ]
  },
  {
   "cell_type": "code",
   "execution_count": 18,
   "metadata": {
    "ExecuteTime": {
     "end_time": "2020-11-15T07:33:12.267857Z",
     "start_time": "2020-11-15T07:33:12.254040Z"
    }
   },
   "outputs": [
    {
     "name": "stdout",
     "output_type": "stream",
     "text": [
      "[[6, 1, 2, 3, 4, 5], ['Sandeep', 'sandy', 'shashank', 'kadiwal', 'undefined'], 5]\n",
      "[[1, 2, 3, 4, 5], ['Sandeep', 'sandy', 'shashank', 'kadiwal', 'undefined'], 5]\n",
      "[[1, 2, 3, 4], ['Sandeep', 'sandy', 'shashank', 'kadiwal', 'undefined'], 5]\n"
     ]
    }
   ],
   "source": [
    "del lists[3]\n",
    "print(lists)\n",
    "\n",
    "lists[0].remove(6)\n",
    "print(lists)\n",
    "# 3. pop() : display the object that has been removed\n",
    "lists[0].pop(4)\n",
    "print(lists)"
   ]
  }
 ],
 "metadata": {
  "kernelspec": {
   "display_name": "Python 3",
   "language": "python",
   "name": "python3"
  },
  "language_info": {
   "codemirror_mode": {
    "name": "ipython",
    "version": 3
   },
   "file_extension": ".py",
   "mimetype": "text/x-python",
   "name": "python",
   "nbconvert_exporter": "python",
   "pygments_lexer": "ipython3",
   "version": "3.8.3"
  },
  "toc": {
   "base_numbering": 1,
   "nav_menu": {},
   "number_sections": true,
   "sideBar": true,
   "skip_h1_title": false,
   "title_cell": "Table of Contents",
   "title_sidebar": "Contents",
   "toc_cell": false,
   "toc_position": {},
   "toc_section_display": true,
   "toc_window_display": false
  },
  "varInspector": {
   "cols": {
    "lenName": 16,
    "lenType": 16,
    "lenVar": 40
   },
   "kernels_config": {
    "python": {
     "delete_cmd_postfix": "",
     "delete_cmd_prefix": "del ",
     "library": "var_list.py",
     "varRefreshCmd": "print(var_dic_list())"
    },
    "r": {
     "delete_cmd_postfix": ") ",
     "delete_cmd_prefix": "rm(",
     "library": "var_list.r",
     "varRefreshCmd": "cat(var_dic_list()) "
    }
   },
   "types_to_exclude": [
    "module",
    "function",
    "builtin_function_or_method",
    "instance",
    "_Feature"
   ],
   "window_display": false
  }
 },
 "nbformat": 4,
 "nbformat_minor": 2
}
