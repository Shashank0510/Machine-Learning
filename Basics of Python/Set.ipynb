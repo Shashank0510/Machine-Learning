{
 "cells": [
  {
   "cell_type": "markdown",
   "metadata": {},
   "source": [
    "Creating Sets"
   ]
  },
  {
   "cell_type": "code",
   "execution_count": 8,
   "metadata": {
    "ExecuteTime": {
     "end_time": "2020-11-15T07:31:56.353237Z",
     "start_time": "2020-11-15T07:31:56.336823Z"
    }
   },
   "outputs": [
    {
     "name": "stdout",
     "output_type": "stream",
     "text": [
      "Creating Sets {25, 20, 21, 23}\n",
      "Creating Sets :  {'kadiwal', 'shashank', 'sandy', 'sam'}\n"
     ]
    }
   ],
   "source": [
    "age = {20, 25, 23, 21, 25}  # No particular order\n",
    "print(f'Creating Sets', age)  # No Duplicate values\n",
    "name = {\"sam\", \"sandy\", \"shashank\", \"kadiwal\"}\n",
    "print(f'Creating Sets : ', name)"
   ]
  },
  {
   "cell_type": "markdown",
   "metadata": {},
   "source": [
    "Modifying Sets<br>\n",
    "1. using add()"
   ]
  },
  {
   "cell_type": "code",
   "execution_count": 9,
   "metadata": {
    "ExecuteTime": {
     "end_time": "2020-11-15T07:31:56.371233Z",
     "start_time": "2020-11-15T07:31:56.360259Z"
    }
   },
   "outputs": [
    {
     "name": "stdout",
     "output_type": "stream",
     "text": [
      "Modifying using add() :  {'sandeep', 'kadiwal', 'shashank', 'sandy', 'sam'}\n"
     ]
    }
   ],
   "source": [
    "name.add(\"sandeep\")\n",
    "print(f'Modifying using add() : ', name)\n"
   ]
  },
  {
   "cell_type": "markdown",
   "metadata": {
    "ExecuteTime": {
     "end_time": "2020-11-15T07:28:32.329912Z",
     "start_time": "2020-11-15T07:28:32.322504Z"
    }
   },
   "source": [
    "2. using discard() : removes matching element"
   ]
  },
  {
   "cell_type": "code",
   "execution_count": 10,
   "metadata": {
    "ExecuteTime": {
     "end_time": "2020-11-15T07:31:56.386879Z",
     "start_time": "2020-11-15T07:31:56.377811Z"
    }
   },
   "outputs": [
    {
     "name": "stdout",
     "output_type": "stream",
     "text": [
      "using discard() :  {'sandeep', 'kadiwal', 'shashank', 'sandy'}\n"
     ]
    }
   ],
   "source": [
    "name.discard(\"sam\")\n",
    "print(f'using discard() : ', name)"
   ]
  },
  {
   "cell_type": "markdown",
   "metadata": {},
   "source": [
    "Set Operations"
   ]
  },
  {
   "cell_type": "code",
   "execution_count": 11,
   "metadata": {
    "ExecuteTime": {
     "end_time": "2020-11-15T07:31:56.404711Z",
     "start_time": "2020-11-15T07:31:56.393133Z"
    }
   },
   "outputs": [
    {
     "name": "stdout",
     "output_type": "stream",
     "text": [
      "{'Python', 'R', 'tableau'} {'Python', 'tableau', 'R', 'Scala', 'Java'}\n"
     ]
    }
   ],
   "source": [
    "Junior_datascientist = {\"R\", \"Python\", \"tableau\"}\n",
    "datascientist = {\"R\", \"Python\",\"Java\", \"Scala\", \"tableau\"}\n",
    "print(Junior_datascientist, datascientist)\n",
    "\n",
    "\n"
   ]
  },
  {
   "cell_type": "markdown",
   "metadata": {},
   "source": [
    "1. Union()"
   ]
  },
  {
   "cell_type": "code",
   "execution_count": 12,
   "metadata": {
    "ExecuteTime": {
     "end_time": "2020-11-15T07:31:56.420675Z",
     "start_time": "2020-11-15T07:31:56.410840Z"
    }
   },
   "outputs": [
    {
     "name": "stdout",
     "output_type": "stream",
     "text": [
      "Union() :  {'Python', 'tableau', 'R', 'Scala', 'Java'}\n"
     ]
    }
   ],
   "source": [
    "# Junior_datascientist.union(datascientist)\n",
    "print(f'Union() : ', Junior_datascientist.union(datascientist))"
   ]
  },
  {
   "cell_type": "markdown",
   "metadata": {},
   "source": [
    "2. Intersection()"
   ]
  },
  {
   "cell_type": "code",
   "execution_count": 13,
   "metadata": {
    "ExecuteTime": {
     "end_time": "2020-11-15T07:31:56.438621Z",
     "start_time": "2020-11-15T07:31:56.427650Z"
    }
   },
   "outputs": [
    {
     "name": "stdout",
     "output_type": "stream",
     "text": [
      "Intersection :  {'Python', 'R', 'tableau'}\n"
     ]
    }
   ],
   "source": [
    "# Junior_datascientist.intersection(datascientist)\n",
    "print(f'Intersection : ', Junior_datascientist.intersection(datascientist))"
   ]
  },
  {
   "cell_type": "markdown",
   "metadata": {},
   "source": [
    "3. Difference()"
   ]
  },
  {
   "cell_type": "code",
   "execution_count": 14,
   "metadata": {
    "ExecuteTime": {
     "end_time": "2020-11-15T07:31:56.454733Z",
     "start_time": "2020-11-15T07:31:56.444604Z"
    }
   },
   "outputs": [
    {
     "name": "stdout",
     "output_type": "stream",
     "text": [
      "Difference :  set()\n",
      "Difference :  {'Scala', 'Java'}\n"
     ]
    }
   ],
   "source": [
    "\n",
    "#  Junior_datascientist.difference(datascientist)\n",
    "# A - B\n",
    "print(f'Difference : ', Junior_datascientist.difference(datascientist))\n",
    "# B - A\n",
    "print(f'Difference : ', datascientist.difference(Junior_datascientist))"
   ]
  },
  {
   "cell_type": "markdown",
   "metadata": {},
   "source": [
    "4. Symmetric difference"
   ]
  },
  {
   "cell_type": "code",
   "execution_count": 15,
   "metadata": {
    "ExecuteTime": {
     "end_time": "2020-11-15T07:31:56.473527Z",
     "start_time": "2020-11-15T07:31:56.463555Z"
    }
   },
   "outputs": [
    {
     "name": "stdout",
     "output_type": "stream",
     "text": [
      "symmetric difference :  {'Scala', 'Java'}\n"
     ]
    }
   ],
   "source": [
    "print(f'symmetric difference : ', Junior_datascientist.symmetric_difference(datascientist))"
   ]
  }
 ],
 "metadata": {
  "kernelspec": {
   "display_name": "Python 3",
   "language": "python",
   "name": "python3"
  },
  "language_info": {
   "codemirror_mode": {
    "name": "ipython",
    "version": 3
   },
   "file_extension": ".py",
   "mimetype": "text/x-python",
   "name": "python",
   "nbconvert_exporter": "python",
   "pygments_lexer": "ipython3",
   "version": "3.8.3"
  },
  "toc": {
   "base_numbering": 1,
   "nav_menu": {},
   "number_sections": true,
   "sideBar": true,
   "skip_h1_title": false,
   "title_cell": "Table of Contents",
   "title_sidebar": "Contents",
   "toc_cell": false,
   "toc_position": {},
   "toc_section_display": true,
   "toc_window_display": false
  },
  "varInspector": {
   "cols": {
    "lenName": 16,
    "lenType": 16,
    "lenVar": 40
   },
   "kernels_config": {
    "python": {
     "delete_cmd_postfix": "",
     "delete_cmd_prefix": "del ",
     "library": "var_list.py",
     "varRefreshCmd": "print(var_dic_list())"
    },
    "r": {
     "delete_cmd_postfix": ") ",
     "delete_cmd_prefix": "rm(",
     "library": "var_list.r",
     "varRefreshCmd": "cat(var_dic_list()) "
    }
   },
   "types_to_exclude": [
    "module",
    "function",
    "builtin_function_or_method",
    "instance",
    "_Feature"
   ],
   "window_display": false
  }
 },
 "nbformat": 4,
 "nbformat_minor": 2
}
