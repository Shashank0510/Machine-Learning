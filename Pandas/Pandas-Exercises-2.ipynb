{
 "cells": [
  {
   "cell_type": "markdown",
   "metadata": {
    "ExecuteTime": {
     "end_time": "2020-11-23T17:36:30.881199Z",
     "start_time": "2020-11-23T17:36:30.868372Z"
    }
   },
   "source": [
    "<a href=\"https://upload.wikimedia.org/wikipedia/commons/e/ed/Pandas_logo.svg\"></a>"
   ]
  },
  {
   "cell_type": "markdown",
   "metadata": {},
   "source": [
    "<img src =\"data:image/png;base64,iVBORw0KGgoAAAANSUhEUgAAAWEAAACPCAMAAAAcGJqjAAAAyVBMVEX///8TB1QAAEgAAE4RA1MAAEexrsMAAEsAAFO8usv19PcAAE0HAFD/ygDnBIjV0+BjX4dqZY0AAEEQAFOSjqsAAETu7fIeFlhIQXfNy9l8eJoIAFXl4+xuapGhnrXmAIH/4o3/2F3/3XW8ucwzLWTrO573t9j+9vr2rNNua4opIGLd3OVUUHinpLtbVoLBv8+Gg6EcElotJWNHQXMAADhBOnNMSHN5d5OOiqf/6qo5NGgwKmN2cZb/11ZWUICrqrr/5pn84vD1p9GpbMbyAAALb0lEQVR4nO2ce3uruBHGjQSWjdT6gsHxJbTbpNseO76fZL2Jm7Pt9/9Q5aIRIOH4kujkaTrvXwHGQvoxSKORSKOBQqFQKBQKhUKhUCgUCoVCoVAoFAqFQqFQKBTqqylS+uyafFH5k9YkF2t/dl2+pvxWIOUhYSvyW66TiyBhK0LCtoWE36tRGzSqvY6E36tlSHL1u7XXkfB71aUSIO3VXkfC7xUSti0kbFtI2LaQsG0hYdtCwraFhG3rSxOOvkmtP7ESX5rwlHKaij1+YiW+NuFJkFVd3HxiJZCwbSFh20LCtoWEbQsJf7BG3VspmXDXCY96h1y3t356jIQvVLNPpfr5CZ3wHRhwioSvUZM4ACw/YRAGA7eFhK+RQXjZh3W6ZXaMhE35lxgbhKOp3JU2zfelfRRhfxTfLh+Wh7jzhtF8Me4+LHuD0bltGMXd5UN33J7XX45W695Dcv2HvH6csKzdj7dql9kNeg+756eH2/jcOhqEdV1LuMOHqTb32dH8EDBGqaCcsVl8pG6Le0Y4FYIyIrr5XoJxkJVCm7nFQGSHQZ64icZOUmhizwnfrWqq0KV5ecn1/KZHCEdrl+S1I2yynmbnZtmdhsQ37EQqyljQPcvF7BEOs81twk1r1uvzAO7jBoQtan7QpkRA0U5A+8u0pd94vkUOCLPskP+WHsRhqVAhO7VC09c+VdcdQdKnVE94H7JS7XiYPj8/ENmt+iXCsVfYZXX0xDFnKckeYS+vhkjerA13KgrCW8N+HAZVI9pqq3GXKML5pW/JU3vy3Io9qyJeCVotL71pHeHoxqsaOuR+2ohEblkiPA5dzdAJ+uNPJ+zyxooLvWYOedLMe8SwCbxF40nUERbLRrTluj0pt/aOBPp1hyznrkG4piCHbuZT6mqE9+pBuK5CTWo6p59NWKzyVysQSUdXOIHmcWXAQRJ8Zz9xw+aunvCusdU8NDMv9oGNSoCzO2eH/GXoaIT9UkGuMhSzO6ERHoWytKRT54wQnhoEYno54d//Cvr9Iwg7ziaps0vJbNntPvOiI/MGJeNFqHBw9rLsLl8Yd9MmD906wsHjIf3DpSz0SNEZ01coL2oVJ4nz1O3uWiR9VnC2ILxUHhww8dztPm28FLkAS0X4NX8SYjIedeadUfuwSxojXk4CNgn/60+gXz6GcFLXgBzy2GY+mIDLuKSIsKaqQYKOO6ml31kzkb6PTh3hxC5lx27jeedu3VJeGIJHFdzCZTuLOqdJoOIoKcJN9WiTaCP7dbRapv4PjQTCUV82pqj1fD/sn7EaZRD+5aMJJ+0Rxesb3UBD6U6dPAAQui01YFa8vwbhtE/oyQ9JokcwhBgF3uikK49Vef6hVCMgPIFH63WLIa1Z6mKAcDv/MSvKS4uMT3fDP4Nw0Kp8U6P8qw/R/RRuIbbl4Md/USOkSTjgRcTnzyQR6CZk7+24rEKgGKuA8ALuzCoxQaeIGoDwD3JGm2tln7BLqhuRFQ9+gJZLbgGtjhtzFc8ahF04kwlABZP8dxw6l4rHqb60IPwsH4XYVQ0X6llohOnp6EyXfcJcrxSUGMxk7YdBPZACqEG4WuhUDvwu98tWxjgEIRgQnsPrFOqzbngLFGHgxOsmS2/KOmGXGzkDGNJJ3k1M+5L4Rp8g+dCfGoTDqulLUL7Xg6j+qtAtrRCOZduosRm9Df4BhDuyKi7b3b3VbFPWCQt9blFwksOGco+DYdmj9YT19+JVMmXpM4smwNsob0QqhAG4ZwxYEXRlKlpTY6Ig/V1c/wVGrawTZgPj0kheojnSNT9a3oLVE9a9E5LaLG35VLob1TMVyaXqnA66YWJmF6BERTguza0FC1u3q2tzax8dD9fMK2VsCS/nkkqXMzOH8Cx0wvrHkhDuZYPqSv6I781aSaY5YV/6ZbA1DeGxK8L+S2UWGVDv5bwu2SD8x99Af2THd6H8BFSI6wjXvFDwruYdyI2QT9CcgYI7GoS1vnBcJgxNYvrAmeipTDiSA6R4NQ1jphFuzFtaekWQ7alscqNxRl5iNbyX2n4YYchwPWclvkHYJ+f58NmE5fuiETaHikab6ISTKRDTkmvi+xlufJKw0ej39xINWYR4zo5klOoKc6EiOubDbxFuHx8BYEis9hJ1a0pNk3DDHxNeZeyGRrhytCR7hGusZD8sfUcNU+Y7N7+mlxi90Q/vKoQ3sh+emYYDo5fI6jNmHg9KlPVJUo2sE+ZmcgRiS7mavT8eSzSv6SWg8xZmLBENK14L8wrPDAt6eiwBzW8fZpwUiyc1IeaRNlgjrE9IG8UowvaVKhiTvxK5S3w4Co7Gw51qPPztaDzs3+vxcEnTdm8DySGXnQraataaQfX/A+XiOR01utd7CEPzQXAOc7qtUVnIal7kwxAwGFZFDCYJQ3HUWNSCqUkt4UTRwpU3CU9NPmp2pMh/gfLOfWvH8xJQ+8CRz3CicTQrdxlhyCQZrw8MbUAYXNrxdG9S+3KOEE4cWXbi+utkqIawjH95TvjXvyv9I6vlxdlLoo1gMJNScy7wrMCpNkcBuZBwB6KqY52Jih4gP8o1J1YJ5uOEodbXEJbH0od//cufQVcSFsOKh4xV9makm/LK2OQXKxWXEVbPMJhUeqhiQQMIF8m7SuxcrLkUaxxGWCZHk/DUrOMnEHborGiofyjS7erkUi1SLAuXiV6LBY2LRrqkUXBv4ZbGsFg1VRGOwNvdcvA82hSzNyC8+v6qDYey0jU5jap+BmFHiLV049VWYeuXVoaVLZ+BrzQnpTzAhT7cGAKigMCdO0viquU3NcdYq6wLeZLO6GcrhDrhPafkuezHzXzyURMq/XTCaYAe8P6sN4hvW56qPCsHkqqhTuDRXhwPujwLh8TmOsJztVvF5eHNPo7HmzBbQpaIi1ncVlVIhK1xHO9v+jxbptcIP4o8b7kYRb7vR+2ubJ53clJnnXCwzedA6Za10i4nvqu8XfeFwwaJIc8XI8JB/X6JU72ElmvkjOVL/vxhwDXC86LLTe6cGIr8r0FQ2S8BW4AE8/pkQvsEUvn3J3OY1gnTQ1PfL5W2dVuNj6IZNWzccN04RviEDydvhb5VKr3pffSDaYQbq5rNQYHX1Pb8jEj5spo2u97pVLx9wrfJGK7l/QLyrD/66J7oiaswGd+X1xJu7PvGTZPXRqbMyrmekUeNO7fV0h8Qpsx8EI7on7Gi9DMIN+bPpNTcgLdqsl7JPKGcuBLefUrrG3VTFYSzQ9fsJfLz5VTpalv2zoCJdI6+8jI7Ws6mTZfl2iW97fM83XsZZJYqHh7MiPYkAjY8ZzHpDMJKVxNObvPkEZruFxXcm4zr81HzHgUb4u3yzOuBt1Kp3a2klR/rhFl+vpKM9uNhyNP+M+lfQyffFjzyMjta/a55tQtZ1tGmlrv8XhORWRYzDv+uKzwu+2NX8HCzP2sd6SThf//nn6D8RlcRTjwlHt9sJrPX9d3x//kaLXqzyWTz+NsCnoEvN+T71cNIz3jV/ztZf/Xb48Qjm9Km+iP/d7YzeHVYnw9v4/kbhlF7/zoJ+2HY54/rq9fpPup7Op3w11E0nV/yIQcSti0kbFtI2LaQsG2dJByNlLJjJHyhTn91+93LFXpX7ZdAwra+a0bCUuZ3zSHLFea7ygzCnMPH/G9OypGwlEH4LgblLmoQ7ql/SPHmrBwJS138Pd25QsJSSNi27BGWu2L1hfL/O9kjPJll2pzc2PXFZY1wwwd9QC3/l2WPMCoXErYtJGxbSNi2kLBtIWHbQsK2hYRtCwnbFhK2LSRsW6cJwzqdV/NdH+q0ThKOVtW1ZtSFuvibUNSFQsK2hYRtq+nJT0AD77Or8kXVZPIz5gn77Kp8Uand48a2cBQKhUKhUCgUCoVCoVAoFAqFQqFQKBQKhUKhUKivof8CPqkLhdfFuQMAAAAASUVORK5CYII=\">"
   ]
  },
  {
   "cell_type": "markdown",
   "metadata": {},
   "source": [
    "<strong>Practice Exercise 2</strong>\n",
    "<br>\n",
    "Tutorial Video:\n",
    "<a href=\"https://www.youtube.com/watch?v=5JnMutdy6Fw\">Brandon Rhodes Pycon</a>"
   ]
  },
  {
   "cell_type": "code",
   "execution_count": 1,
   "metadata": {
    "ExecuteTime": {
     "end_time": "2020-11-23T14:27:04.689121Z",
     "start_time": "2020-11-23T14:27:02.775366Z"
    }
   },
   "outputs": [],
   "source": [
    "%matplotlib inline\n",
    "import pandas as pd"
   ]
  },
  {
   "cell_type": "code",
   "execution_count": 2,
   "metadata": {
    "ExecuteTime": {
     "end_time": "2020-11-23T14:27:04.711023Z",
     "start_time": "2020-11-23T14:27:04.693070Z"
    }
   },
   "outputs": [
    {
     "data": {
      "text/html": [
       "<style>body {\n",
       "    margin: 0;\n",
       "    font-family: Helvetica;\n",
       "}\n",
       "table.dataframe {\n",
       "    border-collapse: collapse;\n",
       "    border: none;\n",
       "}\n",
       "table.dataframe tr {\n",
       "    border: none;\n",
       "}\n",
       "table.dataframe td, table.dataframe th {\n",
       "    margin: 0;\n",
       "    border: 1px solid white;\n",
       "    padding-left: 0.25em;\n",
       "    padding-right: 0.25em;\n",
       "}\n",
       "table.dataframe th:not(:empty) {\n",
       "    background-color: #fec;\n",
       "    text-align: left;\n",
       "    font-weight: normal;\n",
       "}\n",
       "table.dataframe tr:nth-child(2) th:empty {\n",
       "    border-left: none;\n",
       "    border-right: 1px dashed #888;\n",
       "}\n",
       "table.dataframe td {\n",
       "    border: 2px solid #ccf;\n",
       "    background-color: #f4f4ff;\n",
       "}\n",
       "h3 {\n",
       "    color: white;\n",
       "    background-color: black;\n",
       "    padding: 0.5em;\n",
       "}\n",
       "</style>"
      ],
      "text/plain": [
       "<IPython.core.display.HTML object>"
      ]
     },
     "execution_count": 2,
     "metadata": {},
     "output_type": "execute_result"
    }
   ],
   "source": [
    "from IPython.core.display import HTML\n",
    "css = open('style-table.css').read() + open('style-notebook.css').read()\n",
    "HTML('<style>{}</style>'.format(css))"
   ]
  },
  {
   "cell_type": "code",
   "execution_count": 3,
   "metadata": {
    "ExecuteTime": {
     "end_time": "2020-11-23T14:27:05.082175Z",
     "start_time": "2020-11-23T14:27:04.718042Z"
    }
   },
   "outputs": [
    {
     "data": {
      "text/html": [
       "<div>\n",
       "<style scoped>\n",
       "    .dataframe tbody tr th:only-of-type {\n",
       "        vertical-align: middle;\n",
       "    }\n",
       "\n",
       "    .dataframe tbody tr th {\n",
       "        vertical-align: top;\n",
       "    }\n",
       "\n",
       "    .dataframe thead th {\n",
       "        text-align: right;\n",
       "    }\n",
       "</style>\n",
       "<table border=\"1\" class=\"dataframe\">\n",
       "  <thead>\n",
       "    <tr style=\"text-align: right;\">\n",
       "      <th></th>\n",
       "      <th>title</th>\n",
       "      <th>year</th>\n",
       "    </tr>\n",
       "  </thead>\n",
       "  <tbody>\n",
       "    <tr>\n",
       "      <th>0</th>\n",
       "      <td>Orlando Vargas</td>\n",
       "      <td>2005</td>\n",
       "    </tr>\n",
       "    <tr>\n",
       "      <th>1</th>\n",
       "      <td>Niu-Peng</td>\n",
       "      <td>1989</td>\n",
       "    </tr>\n",
       "    <tr>\n",
       "      <th>2</th>\n",
       "      <td>Anandabhadram</td>\n",
       "      <td>2005</td>\n",
       "    </tr>\n",
       "    <tr>\n",
       "      <th>3</th>\n",
       "      <td>Mahendra Varma</td>\n",
       "      <td>1993</td>\n",
       "    </tr>\n",
       "    <tr>\n",
       "      <th>4</th>\n",
       "      <td>Beomdiga shidae</td>\n",
       "      <td>1970</td>\n",
       "    </tr>\n",
       "  </tbody>\n",
       "</table>\n",
       "</div>"
      ],
      "text/plain": [
       "             title  year\n",
       "0   Orlando Vargas  2005\n",
       "1         Niu-Peng  1989\n",
       "2    Anandabhadram  2005\n",
       "3   Mahendra Varma  1993\n",
       "4  Beomdiga shidae  1970"
      ]
     },
     "execution_count": 3,
     "metadata": {},
     "output_type": "execute_result"
    }
   ],
   "source": [
    "titles = pd.read_csv('data/titles.csv')\n",
    "titles.head()"
   ]
  },
  {
   "cell_type": "code",
   "execution_count": 5,
   "metadata": {
    "ExecuteTime": {
     "end_time": "2020-11-23T14:27:15.087060Z",
     "start_time": "2020-11-23T14:27:05.131993Z"
    }
   },
   "outputs": [
    {
     "data": {
      "text/html": [
       "<div>\n",
       "<style scoped>\n",
       "    .dataframe tbody tr th:only-of-type {\n",
       "        vertical-align: middle;\n",
       "    }\n",
       "\n",
       "    .dataframe tbody tr th {\n",
       "        vertical-align: top;\n",
       "    }\n",
       "\n",
       "    .dataframe thead th {\n",
       "        text-align: right;\n",
       "    }\n",
       "</style>\n",
       "<table border=\"1\" class=\"dataframe\">\n",
       "  <thead>\n",
       "    <tr style=\"text-align: right;\">\n",
       "      <th></th>\n",
       "      <th>title</th>\n",
       "      <th>year</th>\n",
       "      <th>name</th>\n",
       "      <th>type</th>\n",
       "      <th>character</th>\n",
       "      <th>n</th>\n",
       "    </tr>\n",
       "  </thead>\n",
       "  <tbody>\n",
       "    <tr>\n",
       "      <th>0</th>\n",
       "      <td>Suuri illusioni</td>\n",
       "      <td>1985</td>\n",
       "      <td>Homo $</td>\n",
       "      <td>actor</td>\n",
       "      <td>Guests</td>\n",
       "      <td>22.0</td>\n",
       "    </tr>\n",
       "    <tr>\n",
       "      <th>1</th>\n",
       "      <td>Gangsta Rap: The Glockumentary</td>\n",
       "      <td>2007</td>\n",
       "      <td>Too $hort</td>\n",
       "      <td>actor</td>\n",
       "      <td>Himself</td>\n",
       "      <td>NaN</td>\n",
       "    </tr>\n",
       "    <tr>\n",
       "      <th>2</th>\n",
       "      <td>Menace II Society</td>\n",
       "      <td>1993</td>\n",
       "      <td>Too $hort</td>\n",
       "      <td>actor</td>\n",
       "      <td>Lew-Loc</td>\n",
       "      <td>27.0</td>\n",
       "    </tr>\n",
       "    <tr>\n",
       "      <th>3</th>\n",
       "      <td>Porndogs: The Adventures of Sadie</td>\n",
       "      <td>2009</td>\n",
       "      <td>Too $hort</td>\n",
       "      <td>actor</td>\n",
       "      <td>Bosco</td>\n",
       "      <td>3.0</td>\n",
       "    </tr>\n",
       "    <tr>\n",
       "      <th>4</th>\n",
       "      <td>Stop Pepper Palmer</td>\n",
       "      <td>2014</td>\n",
       "      <td>Too $hort</td>\n",
       "      <td>actor</td>\n",
       "      <td>Himself</td>\n",
       "      <td>NaN</td>\n",
       "    </tr>\n",
       "  </tbody>\n",
       "</table>\n",
       "</div>"
      ],
      "text/plain": [
       "                               title  year       name   type character     n\n",
       "0                    Suuri illusioni  1985     Homo $  actor    Guests  22.0\n",
       "1     Gangsta Rap: The Glockumentary  2007  Too $hort  actor   Himself   NaN\n",
       "2                  Menace II Society  1993  Too $hort  actor   Lew-Loc  27.0\n",
       "3  Porndogs: The Adventures of Sadie  2009  Too $hort  actor     Bosco   3.0\n",
       "4                 Stop Pepper Palmer  2014  Too $hort  actor   Himself   NaN"
      ]
     },
     "execution_count": 5,
     "metadata": {},
     "output_type": "execute_result"
    }
   ],
   "source": [
    "cast = pd.read_csv('data/cast.csv')\n",
    "cast.head()"
   ]
  },
  {
   "cell_type": "markdown",
   "metadata": {
    "collapsed": true
   },
   "source": [
    "### What are the ten most common movie names of all time?"
   ]
  },
  {
   "cell_type": "code",
   "execution_count": 6,
   "metadata": {
    "ExecuteTime": {
     "end_time": "2020-11-23T14:27:15.396193Z",
     "start_time": "2020-11-23T14:27:15.091010Z"
    }
   },
   "outputs": [
    {
     "data": {
      "text/plain": [
       "Hamlet                  19\n",
       "Macbeth                 14\n",
       "Carmen                  14\n",
       "The Three Musketeers    12\n",
       "Maya                    11\n",
       "The Outsider            11\n",
       "She                     11\n",
       "Blood Money             11\n",
       "Love                    10\n",
       "Underground             10\n",
       "Name: title, dtype: int64"
      ]
     },
     "execution_count": 6,
     "metadata": {},
     "output_type": "execute_result"
    }
   ],
   "source": [
    "t=titles.title.value_counts()\n",
    "t[:10]"
   ]
  },
  {
   "cell_type": "markdown",
   "metadata": {
    "collapsed": true
   },
   "source": [
    "### Which three years of the 1930s saw the most films released?"
   ]
  },
  {
   "cell_type": "code",
   "execution_count": 7,
   "metadata": {
    "ExecuteTime": {
     "end_time": "2020-11-23T14:27:15.426162Z",
     "start_time": "2020-11-23T14:27:15.400184Z"
    }
   },
   "outputs": [
    {
     "data": {
      "text/plain": [
       "1937    1185\n",
       "1936    1127\n",
       "1938    1115\n",
       "Name: year, dtype: int64"
      ]
     },
     "execution_count": 7,
     "metadata": {},
     "output_type": "execute_result"
    }
   ],
   "source": [
    "t=titles[(titles.year>=1930) & (titles.year<=1940)]\n",
    "t=t.year.value_counts()\n",
    "t[:3]"
   ]
  },
  {
   "cell_type": "markdown",
   "metadata": {
    "collapsed": true
   },
   "source": [
    "### Plot the number of films that have been released each decade over the history of cinema."
   ]
  },
  {
   "cell_type": "code",
   "execution_count": 8,
   "metadata": {
    "ExecuteTime": {
     "end_time": "2020-11-23T14:27:15.890012Z",
     "start_time": "2020-11-23T14:27:15.435701Z"
    }
   },
   "outputs": [
    {
     "data": {
      "text/plain": [
       "<matplotlib.axes._subplots.AxesSubplot at 0x20800674760>"
      ]
     },
     "execution_count": 8,
     "metadata": {},
     "output_type": "execute_result"
    },
    {
     "data": {
      "image/png": "[encoded data removed]",
      "text/plain": [
       "<Figure size 432x288 with 1 Axes>"
      ]
     },
     "metadata": {
      "needs_background": "light"
     },
     "output_type": "display_data"
    }
   ],
   "source": [
    "t = titles\n",
    "(t.year // 10 * 10)\n",
    "t.year.value_counts().sort_index().plot()"
   ]
  },
  {
   "cell_type": "markdown",
   "metadata": {
    "collapsed": true
   },
   "source": [
    "### Plot the number of \"Hamlet\" films made each decade."
   ]
  },
  {
   "cell_type": "code",
   "execution_count": 13,
   "metadata": {
    "ExecuteTime": {
     "end_time": "2020-11-23T14:29:59.249500Z",
     "start_time": "2020-11-23T14:29:58.863057Z"
    },
    "scrolled": true
   },
   "outputs": [
    {
     "data": {
      "text/plain": [
       "<matplotlib.axes._subplots.AxesSubplot at 0x208077d7ee0>"
      ]
     },
     "execution_count": 13,
     "metadata": {},
     "output_type": "execute_result"
    },
    {
     "data": {
      "image/png": "[encoded data removed]",
      "text/plain": [
       "<Figure size 432x288 with 1 Axes>"
      ]
     },
     "metadata": {
      "needs_background": "light"
     },
     "output_type": "display_data"
    }
   ],
   "source": [
    "t = titles\n",
    "t=t[t.title==\"Hamlet\"]\n",
    "(t.year//10*10).value_counts().sort_index().plot(kind='bar')"
   ]
  },
  {
   "cell_type": "code",
   "execution_count": 10,
   "metadata": {
    "ExecuteTime": {
     "end_time": "2020-11-23T14:27:16.338770Z",
     "start_time": "2020-11-23T14:27:16.300911Z"
    }
   },
   "outputs": [
    {
     "data": {
      "text/html": [
       "<div>\n",
       "<style scoped>\n",
       "    .dataframe tbody tr th:only-of-type {\n",
       "        vertical-align: middle;\n",
       "    }\n",
       "\n",
       "    .dataframe tbody tr th {\n",
       "        vertical-align: top;\n",
       "    }\n",
       "\n",
       "    .dataframe thead th {\n",
       "        text-align: right;\n",
       "    }\n",
       "</style>\n",
       "<table border=\"1\" class=\"dataframe\">\n",
       "  <thead>\n",
       "    <tr style=\"text-align: right;\">\n",
       "      <th></th>\n",
       "      <th>title</th>\n",
       "      <th>year</th>\n",
       "      <th>name</th>\n",
       "      <th>type</th>\n",
       "      <th>character</th>\n",
       "      <th>n</th>\n",
       "    </tr>\n",
       "  </thead>\n",
       "  <tbody>\n",
       "    <tr>\n",
       "      <th>0</th>\n",
       "      <td>Suuri illusioni</td>\n",
       "      <td>1985</td>\n",
       "      <td>Homo $</td>\n",
       "      <td>actor</td>\n",
       "      <td>Guests</td>\n",
       "      <td>22.0</td>\n",
       "    </tr>\n",
       "    <tr>\n",
       "      <th>1</th>\n",
       "      <td>Gangsta Rap: The Glockumentary</td>\n",
       "      <td>2007</td>\n",
       "      <td>Too $hort</td>\n",
       "      <td>actor</td>\n",
       "      <td>Himself</td>\n",
       "      <td>NaN</td>\n",
       "    </tr>\n",
       "    <tr>\n",
       "      <th>2</th>\n",
       "      <td>Menace II Society</td>\n",
       "      <td>1993</td>\n",
       "      <td>Too $hort</td>\n",
       "      <td>actor</td>\n",
       "      <td>Lew-Loc</td>\n",
       "      <td>27.0</td>\n",
       "    </tr>\n",
       "    <tr>\n",
       "      <th>3</th>\n",
       "      <td>Porndogs: The Adventures of Sadie</td>\n",
       "      <td>2009</td>\n",
       "      <td>Too $hort</td>\n",
       "      <td>actor</td>\n",
       "      <td>Bosco</td>\n",
       "      <td>3.0</td>\n",
       "    </tr>\n",
       "    <tr>\n",
       "      <th>4</th>\n",
       "      <td>Stop Pepper Palmer</td>\n",
       "      <td>2014</td>\n",
       "      <td>Too $hort</td>\n",
       "      <td>actor</td>\n",
       "      <td>Himself</td>\n",
       "      <td>NaN</td>\n",
       "    </tr>\n",
       "    <tr>\n",
       "      <th>...</th>\n",
       "      <td>...</td>\n",
       "      <td>...</td>\n",
       "      <td>...</td>\n",
       "      <td>...</td>\n",
       "      <td>...</td>\n",
       "      <td>...</td>\n",
       "    </tr>\n",
       "    <tr>\n",
       "      <th>3311642</th>\n",
       "      <td>Stuttur Frakki</td>\n",
       "      <td>1993</td>\n",
       "      <td>Sveinbj?rg ??rhallsd?ttir</td>\n",
       "      <td>actress</td>\n",
       "      <td>Flugfreyja</td>\n",
       "      <td>24.0</td>\n",
       "    </tr>\n",
       "    <tr>\n",
       "      <th>3311643</th>\n",
       "      <td>Foxtrot</td>\n",
       "      <td>1988</td>\n",
       "      <td>Lilja ??risd?ttir</td>\n",
       "      <td>actress</td>\n",
       "      <td>D?ra</td>\n",
       "      <td>24.0</td>\n",
       "    </tr>\n",
       "    <tr>\n",
       "      <th>3311644</th>\n",
       "      <td>Niceland (Population. 1.000.002)</td>\n",
       "      <td>2004</td>\n",
       "      <td>Sigr??ur J?na ??risd?ttir</td>\n",
       "      <td>actress</td>\n",
       "      <td>Woman in Bus</td>\n",
       "      <td>26.0</td>\n",
       "    </tr>\n",
       "    <tr>\n",
       "      <th>3311645</th>\n",
       "      <td>U.S.S.S.S...</td>\n",
       "      <td>2003</td>\n",
       "      <td>Krist?n Andrea ??r?ard?ttir</td>\n",
       "      <td>actress</td>\n",
       "      <td>Afgr.dama ? bens?nst??</td>\n",
       "      <td>17.0</td>\n",
       "    </tr>\n",
       "    <tr>\n",
       "      <th>3311646</th>\n",
       "      <td>Bye Bye Blue Bird</td>\n",
       "      <td>1999</td>\n",
       "      <td>Rosa ? R?gvu</td>\n",
       "      <td>actress</td>\n",
       "      <td>Pensionatv?rtinde</td>\n",
       "      <td>NaN</td>\n",
       "    </tr>\n",
       "  </tbody>\n",
       "</table>\n",
       "<p>3311647 rows × 6 columns</p>\n",
       "</div>"
      ],
      "text/plain": [
       "                                     title  year                         name  \\\n",
       "0                          Suuri illusioni  1985                       Homo $   \n",
       "1           Gangsta Rap: The Glockumentary  2007                    Too $hort   \n",
       "2                        Menace II Society  1993                    Too $hort   \n",
       "3        Porndogs: The Adventures of Sadie  2009                    Too $hort   \n",
       "4                       Stop Pepper Palmer  2014                    Too $hort   \n",
       "...                                    ...   ...                          ...   \n",
       "3311642                     Stuttur Frakki  1993    Sveinbj?rg ??rhallsd?ttir   \n",
       "3311643                            Foxtrot  1988            Lilja ??risd?ttir   \n",
       "3311644   Niceland (Population. 1.000.002)  2004    Sigr??ur J?na ??risd?ttir   \n",
       "3311645                       U.S.S.S.S...  2003  Krist?n Andrea ??r?ard?ttir   \n",
       "3311646                  Bye Bye Blue Bird  1999                 Rosa ? R?gvu   \n",
       "\n",
       "            type               character     n  \n",
       "0          actor                  Guests  22.0  \n",
       "1          actor                 Himself   NaN  \n",
       "2          actor                 Lew-Loc  27.0  \n",
       "3          actor                   Bosco   3.0  \n",
       "4          actor                 Himself   NaN  \n",
       "...          ...                     ...   ...  \n",
       "3311642  actress              Flugfreyja  24.0  \n",
       "3311643  actress                    D?ra  24.0  \n",
       "3311644  actress            Woman in Bus  26.0  \n",
       "3311645  actress  Afgr.dama ? bens?nst??  17.0  \n",
       "3311646  actress       Pensionatv?rtinde   NaN  \n",
       "\n",
       "[3311647 rows x 6 columns]"
      ]
     },
     "execution_count": 10,
     "metadata": {},
     "output_type": "execute_result"
    }
   ],
   "source": [
    "cast"
   ]
  },
  {
   "cell_type": "markdown",
   "metadata": {
    "collapsed": true
   },
   "source": [
    "### Plot the number of \"Rustler\" characters in each decade of the history of film."
   ]
  },
  {
   "cell_type": "code",
   "execution_count": 52,
   "metadata": {
    "ExecuteTime": {
     "end_time": "2020-11-23T15:04:16.306117Z",
     "start_time": "2020-11-23T15:04:15.456883Z"
    }
   },
   "outputs": [
    {
     "data": {
      "text/plain": [
       "<matplotlib.axes._subplots.AxesSubplot at 0x2080e283a00>"
      ]
     },
     "execution_count": 52,
     "metadata": {},
     "output_type": "execute_result"
    },
    {
     "data": {
      "image/png": "[encoded data removed]",
      "text/plain": [
       "<Figure size 432x288 with 1 Axes>"
      ]
     },
     "metadata": {
      "needs_background": "light"
     },
     "output_type": "display_data"
    }
   ],
   "source": [
    "c=cast[cast.character==\"Rustler\"]\n",
    "(c.year *10//10) .value_counts().sort_index().plot()"
   ]
  },
  {
   "cell_type": "markdown",
   "metadata": {
    "collapsed": true
   },
   "source": [
    "### Plot the number of \"Hamlet\" characters each decade."
   ]
  },
  {
   "cell_type": "code",
   "execution_count": 51,
   "metadata": {
    "ExecuteTime": {
     "end_time": "2020-11-23T15:04:10.605718Z",
     "start_time": "2020-11-23T15:04:09.778568Z"
    }
   },
   "outputs": [
    {
     "data": {
      "text/plain": [
       "<matplotlib.axes._subplots.AxesSubplot at 0x2080e24c5b0>"
      ]
     },
     "execution_count": 51,
     "metadata": {},
     "output_type": "execute_result"
    },
    {
     "data": {
      "image/png": "[encoded data removed]",
      "text/plain": [
       "<Figure size 432x288 with 1 Axes>"
      ]
     },
     "metadata": {
      "needs_background": "light"
     },
     "output_type": "display_data"
    }
   ],
   "source": [
    "c=cast[cast.character==\"Hamlet\"]\n",
    "(c.year *10//10) .value_counts().sort_index().plot()"
   ]
  },
  {
   "cell_type": "markdown",
   "metadata": {
    "collapsed": true
   },
   "source": [
    "### What are the 11 most common character names in movie history?"
   ]
  },
  {
   "cell_type": "code",
   "execution_count": 22,
   "metadata": {
    "ExecuteTime": {
     "end_time": "2020-11-23T14:37:52.935009Z",
     "start_time": "2020-11-23T14:37:49.327222Z"
    }
   },
   "outputs": [
    {
     "data": {
      "text/plain": [
       "Himself        18926\n",
       "Dancer         11015\n",
       "Extra           8638\n",
       "Reporter        7593\n",
       "Doctor          6803\n",
       "Policeman       6470\n",
       "Student         6390\n",
       "Nurse           6127\n",
       "Bartender       6123\n",
       "Minor Role      5830\n",
       "Party Guest     5820\n",
       "Zombie          5688\n",
       "Name: character, dtype: int64"
      ]
     },
     "execution_count": 22,
     "metadata": {},
     "output_type": "execute_result"
    }
   ],
   "source": [
    "c=cast\n",
    "c=c.character.value_counts()\n",
    "c[:12]"
   ]
  },
  {
   "cell_type": "markdown",
   "metadata": {
    "collapsed": true
   },
   "source": [
    "### Who are the 10 people most often credited as \"Herself\" in film history?"
   ]
  },
  {
   "cell_type": "code",
   "execution_count": 28,
   "metadata": {
    "ExecuteTime": {
     "end_time": "2020-11-23T14:50:09.788661Z",
     "start_time": "2020-11-23T14:50:09.251065Z"
    }
   },
   "outputs": [
    {
     "data": {
      "text/html": [
       "<div>\n",
       "<style scoped>\n",
       "    .dataframe tbody tr th:only-of-type {\n",
       "        vertical-align: middle;\n",
       "    }\n",
       "\n",
       "    .dataframe tbody tr th {\n",
       "        vertical-align: top;\n",
       "    }\n",
       "\n",
       "    .dataframe thead th {\n",
       "        text-align: right;\n",
       "    }\n",
       "</style>\n",
       "<table border=\"1\" class=\"dataframe\">\n",
       "  <thead>\n",
       "    <tr style=\"text-align: right;\">\n",
       "      <th></th>\n",
       "      <th>title</th>\n",
       "      <th>year</th>\n",
       "      <th>name</th>\n",
       "      <th>type</th>\n",
       "      <th>character</th>\n",
       "      <th>n</th>\n",
       "    </tr>\n",
       "  </thead>\n",
       "  <tbody>\n",
       "    <tr>\n",
       "      <th>19083</th>\n",
       "      <td>Noel Gallagher's High Flying Birds Live</td>\n",
       "      <td>2012</td>\n",
       "      <td>Eugenie Aichison</td>\n",
       "      <td>actor</td>\n",
       "      <td>Herself</td>\n",
       "      <td>22.0</td>\n",
       "    </tr>\n",
       "    <tr>\n",
       "      <th>103666</th>\n",
       "      <td>Alexander Jamieson</td>\n",
       "      <td>2015</td>\n",
       "      <td>Etta Baker</td>\n",
       "      <td>actor</td>\n",
       "      <td>Herself</td>\n",
       "      <td>NaN</td>\n",
       "    </tr>\n",
       "    <tr>\n",
       "      <th>175206</th>\n",
       "      <td>Le fils de Gascogne</td>\n",
       "      <td>1995</td>\n",
       "      <td>Ren? Biaggi</td>\n",
       "      <td>actor</td>\n",
       "      <td>Herself</td>\n",
       "      <td>22.0</td>\n",
       "    </tr>\n",
       "    <tr>\n",
       "      <th>182995</th>\n",
       "      <td>30 Years Os Dark Seduction</td>\n",
       "      <td>2015</td>\n",
       "      <td>Steve (II) Bishart</td>\n",
       "      <td>actor</td>\n",
       "      <td>Herself</td>\n",
       "      <td>NaN</td>\n",
       "    </tr>\n",
       "    <tr>\n",
       "      <th>186661</th>\n",
       "      <td>Forty Shades of Blue</td>\n",
       "      <td>2005</td>\n",
       "      <td>J. Blackfoot</td>\n",
       "      <td>actor</td>\n",
       "      <td>Herself</td>\n",
       "      <td>7.0</td>\n",
       "    </tr>\n",
       "    <tr>\n",
       "      <th>186975</th>\n",
       "      <td>Wienfilm 1896-1976</td>\n",
       "      <td>1976</td>\n",
       "      <td>Moucle Blackout</td>\n",
       "      <td>actor</td>\n",
       "      <td>Herself</td>\n",
       "      <td>NaN</td>\n",
       "    </tr>\n",
       "    <tr>\n",
       "      <th>203321</th>\n",
       "      <td>Not Another B Movie</td>\n",
       "      <td>2010</td>\n",
       "      <td>Babette Bombshell</td>\n",
       "      <td>actor</td>\n",
       "      <td>Herself</td>\n",
       "      <td>19.0</td>\n",
       "    </tr>\n",
       "    <tr>\n",
       "      <th>282306</th>\n",
       "      <td>Hell House</td>\n",
       "      <td>2009</td>\n",
       "      <td>Josette Bynum</td>\n",
       "      <td>actor</td>\n",
       "      <td>Herself</td>\n",
       "      <td>NaN</td>\n",
       "    </tr>\n",
       "    <tr>\n",
       "      <th>282307</th>\n",
       "      <td>The Legacy</td>\n",
       "      <td>2009</td>\n",
       "      <td>Josette Bynum</td>\n",
       "      <td>actor</td>\n",
       "      <td>Herself</td>\n",
       "      <td>NaN</td>\n",
       "    </tr>\n",
       "    <tr>\n",
       "      <th>308444</th>\n",
       "      <td>Growing Brilliance: Kids in Film</td>\n",
       "      <td>2015</td>\n",
       "      <td>Dusty (II) Carlson</td>\n",
       "      <td>actor</td>\n",
       "      <td>Herself</td>\n",
       "      <td>NaN</td>\n",
       "    </tr>\n",
       "  </tbody>\n",
       "</table>\n",
       "</div>"
      ],
      "text/plain": [
       "                                          title  year                name  \\\n",
       "19083   Noel Gallagher's High Flying Birds Live  2012    Eugenie Aichison   \n",
       "103666                       Alexander Jamieson  2015          Etta Baker   \n",
       "175206                      Le fils de Gascogne  1995         Ren? Biaggi   \n",
       "182995               30 Years Os Dark Seduction  2015  Steve (II) Bishart   \n",
       "186661                     Forty Shades of Blue  2005        J. Blackfoot   \n",
       "186975                       Wienfilm 1896-1976  1976     Moucle Blackout   \n",
       "203321                      Not Another B Movie  2010   Babette Bombshell   \n",
       "282306                               Hell House  2009       Josette Bynum   \n",
       "282307                               The Legacy  2009       Josette Bynum   \n",
       "308444         Growing Brilliance: Kids in Film  2015  Dusty (II) Carlson   \n",
       "\n",
       "         type character     n  \n",
       "19083   actor   Herself  22.0  \n",
       "103666  actor   Herself   NaN  \n",
       "175206  actor   Herself  22.0  \n",
       "182995  actor   Herself   NaN  \n",
       "186661  actor   Herself   7.0  \n",
       "186975  actor   Herself   NaN  \n",
       "203321  actor   Herself  19.0  \n",
       "282306  actor   Herself   NaN  \n",
       "282307  actor   Herself   NaN  \n",
       "308444  actor   Herself   NaN  "
      ]
     },
     "execution_count": 28,
     "metadata": {},
     "output_type": "execute_result"
    }
   ],
   "source": [
    "c=cast\n",
    "c=c[c.character==\"Herself\"]\n",
    "c.name.value_counts()\n",
    "c[:10]"
   ]
  },
  {
   "cell_type": "markdown",
   "metadata": {
    "collapsed": true
   },
   "source": [
    "### Who are the 10 people most often credited as \"Himself\" in film history?"
   ]
  },
  {
   "cell_type": "code",
   "execution_count": 29,
   "metadata": {
    "ExecuteTime": {
     "end_time": "2020-11-23T14:54:03.787256Z",
     "start_time": "2020-11-23T14:54:03.192382Z"
    }
   },
   "outputs": [
    {
     "data": {
      "text/html": [
       "<div>\n",
       "<style scoped>\n",
       "    .dataframe tbody tr th:only-of-type {\n",
       "        vertical-align: middle;\n",
       "    }\n",
       "\n",
       "    .dataframe tbody tr th {\n",
       "        vertical-align: top;\n",
       "    }\n",
       "\n",
       "    .dataframe thead th {\n",
       "        text-align: right;\n",
       "    }\n",
       "</style>\n",
       "<table border=\"1\" class=\"dataframe\">\n",
       "  <thead>\n",
       "    <tr style=\"text-align: right;\">\n",
       "      <th></th>\n",
       "      <th>title</th>\n",
       "      <th>year</th>\n",
       "      <th>name</th>\n",
       "      <th>type</th>\n",
       "      <th>character</th>\n",
       "      <th>n</th>\n",
       "    </tr>\n",
       "  </thead>\n",
       "  <tbody>\n",
       "    <tr>\n",
       "      <th>1</th>\n",
       "      <td>Gangsta Rap: The Glockumentary</td>\n",
       "      <td>2007</td>\n",
       "      <td>Too $hort</td>\n",
       "      <td>actor</td>\n",
       "      <td>Himself</td>\n",
       "      <td>NaN</td>\n",
       "    </tr>\n",
       "    <tr>\n",
       "      <th>4</th>\n",
       "      <td>Stop Pepper Palmer</td>\n",
       "      <td>2014</td>\n",
       "      <td>Too $hort</td>\n",
       "      <td>actor</td>\n",
       "      <td>Himself</td>\n",
       "      <td>NaN</td>\n",
       "    </tr>\n",
       "    <tr>\n",
       "      <th>5</th>\n",
       "      <td>Townbiz</td>\n",
       "      <td>2010</td>\n",
       "      <td>Too $hort</td>\n",
       "      <td>actor</td>\n",
       "      <td>Himself</td>\n",
       "      <td>NaN</td>\n",
       "    </tr>\n",
       "    <tr>\n",
       "      <th>35</th>\n",
       "      <td>Been Down So Long It Looks Like Up to Me</td>\n",
       "      <td>1971</td>\n",
       "      <td>Murray the 'K'</td>\n",
       "      <td>actor</td>\n",
       "      <td>Himself</td>\n",
       "      <td>NaN</td>\n",
       "    </tr>\n",
       "    <tr>\n",
       "      <th>36</th>\n",
       "      <td>I Wanna Hold Your Hand</td>\n",
       "      <td>1978</td>\n",
       "      <td>Murray the 'K'</td>\n",
       "      <td>actor</td>\n",
       "      <td>Himself</td>\n",
       "      <td>47.0</td>\n",
       "    </tr>\n",
       "    <tr>\n",
       "      <th>81</th>\n",
       "      <td>Love Hollywood Style</td>\n",
       "      <td>2006</td>\n",
       "      <td>Mac 10</td>\n",
       "      <td>actor</td>\n",
       "      <td>Himself</td>\n",
       "      <td>NaN</td>\n",
       "    </tr>\n",
       "    <tr>\n",
       "      <th>85</th>\n",
       "      <td>Malibu Horror Story</td>\n",
       "      <td>2014</td>\n",
       "      <td>12th Planet</td>\n",
       "      <td>actor</td>\n",
       "      <td>Himself</td>\n",
       "      <td>NaN</td>\n",
       "    </tr>\n",
       "    <tr>\n",
       "      <th>96</th>\n",
       "      <td>American Psycho Tour</td>\n",
       "      <td>2012</td>\n",
       "      <td>Shaggy 2 Dope</td>\n",
       "      <td>actor</td>\n",
       "      <td>Himself</td>\n",
       "      <td>NaN</td>\n",
       "    </tr>\n",
       "    <tr>\n",
       "      <th>112</th>\n",
       "      <td>Don't Shoot! I'm the Guitar Man</td>\n",
       "      <td>2015</td>\n",
       "      <td>Rappin' 4-Tay</td>\n",
       "      <td>actor</td>\n",
       "      <td>Himself</td>\n",
       "      <td>NaN</td>\n",
       "    </tr>\n",
       "    <tr>\n",
       "      <th>113</th>\n",
       "      <td>The Beat</td>\n",
       "      <td>2003</td>\n",
       "      <td>4-Zone</td>\n",
       "      <td>actor</td>\n",
       "      <td>Himself</td>\n",
       "      <td>NaN</td>\n",
       "    </tr>\n",
       "  </tbody>\n",
       "</table>\n",
       "</div>"
      ],
      "text/plain": [
       "                                        title  year            name   type  \\\n",
       "1              Gangsta Rap: The Glockumentary  2007       Too $hort  actor   \n",
       "4                          Stop Pepper Palmer  2014       Too $hort  actor   \n",
       "5                                     Townbiz  2010       Too $hort  actor   \n",
       "35   Been Down So Long It Looks Like Up to Me  1971  Murray the 'K'  actor   \n",
       "36                     I Wanna Hold Your Hand  1978  Murray the 'K'  actor   \n",
       "81                       Love Hollywood Style  2006          Mac 10  actor   \n",
       "85                        Malibu Horror Story  2014     12th Planet  actor   \n",
       "96                       American Psycho Tour  2012   Shaggy 2 Dope  actor   \n",
       "112           Don't Shoot! I'm the Guitar Man  2015   Rappin' 4-Tay  actor   \n",
       "113                                  The Beat  2003          4-Zone  actor   \n",
       "\n",
       "    character     n  \n",
       "1     Himself   NaN  \n",
       "4     Himself   NaN  \n",
       "5     Himself   NaN  \n",
       "35    Himself   NaN  \n",
       "36    Himself  47.0  \n",
       "81    Himself   NaN  \n",
       "85    Himself   NaN  \n",
       "96    Himself   NaN  \n",
       "112   Himself   NaN  \n",
       "113   Himself   NaN  "
      ]
     },
     "execution_count": 29,
     "metadata": {},
     "output_type": "execute_result"
    }
   ],
   "source": [
    "c=cast\n",
    "c=c[c.character==\"Himself\"]\n",
    "c.name.value_counts()\n",
    "c[:10]"
   ]
  },
  {
   "cell_type": "markdown",
   "metadata": {
    "collapsed": true
   },
   "source": [
    "### Which actors or actresses appeared in the most movies in the year 1945?"
   ]
  },
  {
   "cell_type": "code",
   "execution_count": 36,
   "metadata": {
    "ExecuteTime": {
     "end_time": "2020-11-23T14:58:54.092061Z",
     "start_time": "2020-11-23T14:58:54.034258Z"
    }
   },
   "outputs": [
    {
     "data": {
      "text/plain": [
       "Emmett Vogan        39\n",
       "Sam (II) Harris     30\n",
       "Bess Flowers        28\n",
       "Harold Miller       28\n",
       "Nolan Leary         27\n",
       "Frank O'Connor      26\n",
       "Charles Sullivan    24\n",
       "Edmund Cobb         24\n",
       "Franklyn Farnum     24\n",
       "Tom London          24\n",
       "Name: name, dtype: int64"
      ]
     },
     "execution_count": 36,
     "metadata": {},
     "output_type": "execute_result"
    }
   ],
   "source": [
    "c=cast\n",
    "c=c[c.year==1945]\n",
    "c.name.value_counts().head(10)"
   ]
  },
  {
   "cell_type": "markdown",
   "metadata": {
    "collapsed": true
   },
   "source": [
    "### Which actors or actresses appeared in the most movies in the year 1985?"
   ]
  },
  {
   "cell_type": "code",
   "execution_count": 37,
   "metadata": {
    "ExecuteTime": {
     "end_time": "2020-11-23T14:59:21.865152Z",
     "start_time": "2020-11-23T14:59:21.785351Z"
    }
   },
   "outputs": [
    {
     "data": {
      "text/plain": [
       "Sam (II) Harris    22\n",
       "James Conaty       20\n",
       "Bess Flowers       19\n",
       "Frank Mills        19\n",
       "Franklyn Farnum    18\n",
       "Donald Kerr        18\n",
       "Harold Miller      18\n",
       "Don C. Harvey      17\n",
       "Kenner G. Kemp     16\n",
       "Mike Lally         16\n",
       "Name: name, dtype: int64"
      ]
     },
     "execution_count": 37,
     "metadata": {},
     "output_type": "execute_result"
    }
   ],
   "source": [
    "c=cast\n",
    "c=c[c.year==1955]\n",
    "c.name.value_counts().head(10)"
   ]
  },
  {
   "cell_type": "markdown",
   "metadata": {
    "collapsed": true
   },
   "source": [
    "### Plot how many roles Mammootty has played in each year of his career."
   ]
  },
  {
   "cell_type": "code",
   "execution_count": 50,
   "metadata": {
    "ExecuteTime": {
     "end_time": "2020-11-23T15:03:55.077333Z",
     "start_time": "2020-11-23T15:03:54.303367Z"
    }
   },
   "outputs": [
    {
     "data": {
      "text/plain": [
       "<matplotlib.axes._subplots.AxesSubplot at 0x20808440ca0>"
      ]
     },
     "execution_count": 50,
     "metadata": {},
     "output_type": "execute_result"
    },
    {
     "data": {
      "image/png": "[encoded data removed]",
      "text/plain": [
       "<Figure size 432x288 with 1 Axes>"
      ]
     },
     "metadata": {
      "needs_background": "light"
     },
     "output_type": "display_data"
    }
   ],
   "source": [
    "c=cast\n",
    "c=c[c.name==\"Mammootty\"]\n",
    "(c.year *10//10) .value_counts().sort_index().plot()"
   ]
  },
  {
   "cell_type": "markdown",
   "metadata": {
    "collapsed": true
   },
   "source": [
    "### What are the 10 most frequent roles that start with the phrase \"Patron in\"?"
   ]
  },
  {
   "cell_type": "code",
   "execution_count": 60,
   "metadata": {
    "ExecuteTime": {
     "end_time": "2020-11-23T16:57:43.554341Z",
     "start_time": "2020-11-23T16:57:38.900964Z"
    }
   },
   "outputs": [
    {
     "data": {
      "text/plain": [
       "Patron in Frisky Rabbit         16\n",
       "Patron in the Coffee House       9\n",
       "Patron in Chinese Restaurant     9\n",
       "Patron in Billiard Parlor        5\n",
       "Patron in Bar                    4\n",
       "Patron in cabaret                3\n",
       "Patron in Club                   3\n",
       "Patron in Restaurant             3\n",
       "Patron in restaurant             3\n",
       "Patron in Coffee Shop            2\n",
       "Name: character, dtype: int64"
      ]
     },
     "execution_count": 60,
     "metadata": {},
     "output_type": "execute_result"
    }
   ],
   "source": [
    "c=cast\n",
    "c=c[c.character.str.startswith('Patron in')]\n",
    "c.character.value_counts().head(10)"
   ]
  },
  {
   "cell_type": "markdown",
   "metadata": {
    "collapsed": true
   },
   "source": [
    "### What are the 10 most frequent roles that start with the word \"Science\"?"
   ]
  },
  {
   "cell_type": "code",
   "execution_count": 61,
   "metadata": {
    "ExecuteTime": {
     "end_time": "2020-11-23T16:58:21.609816Z",
     "start_time": "2020-11-23T16:58:17.701151Z"
    }
   },
   "outputs": [
    {
     "data": {
      "text/plain": [
       "Science Teacher         53\n",
       "Science Student          8\n",
       "Science Fair Student     8\n",
       "Science Fair Judge       6\n",
       "Science Reporter         5\n",
       "Science Club Member      5\n",
       "Science Promo Cadet      4\n",
       "Science Kid              4\n",
       "Science teacher          3\n",
       "Science Fair Kid         3\n",
       "Name: character, dtype: int64"
      ]
     },
     "execution_count": 61,
     "metadata": {},
     "output_type": "execute_result"
    }
   ],
   "source": [
    "c=cast\n",
    "c=c[c.character.str.startswith('Science')]\n",
    "c.character.value_counts().head(10)"
   ]
  },
  {
   "cell_type": "markdown",
   "metadata": {
    "collapsed": true
   },
   "source": [
    "### Plot the n-values of the roles that Judi Dench has played over her career."
   ]
  },
  {
   "cell_type": "code",
   "execution_count": 82,
   "metadata": {
    "ExecuteTime": {
     "end_time": "2020-11-23T17:18:24.562670Z",
     "start_time": "2020-11-23T17:18:23.741023Z"
    }
   },
   "outputs": [
    {
     "data": {
      "text/plain": [
       "<matplotlib.axes._subplots.AxesSubplot at 0x2080e8e9520>"
      ]
     },
     "execution_count": 82,
     "metadata": {},
     "output_type": "execute_result"
    },
    {
     "data": {
      "image/png": "[encoded data removed]",
      "text/plain": [
       "<Figure size 432x288 with 1 Axes>"
      ]
     },
     "metadata": {
      "needs_background": "light"
     },
     "output_type": "display_data"
    }
   ],
   "source": [
    "c=cast\n",
    "c=c[c.name==\"Judi Dench\"].sort_values('year')\n",
    "c.plot(x ='year', y='n', kind=\"scatter\")"
   ]
  },
  {
   "cell_type": "markdown",
   "metadata": {
    "collapsed": true
   },
   "source": [
    "### Plot the n-values of Cary Grant's roles through his career."
   ]
  },
  {
   "cell_type": "code",
   "execution_count": 99,
   "metadata": {
    "ExecuteTime": {
     "end_time": "2020-11-23T17:34:02.733637Z",
     "start_time": "2020-11-23T17:34:01.887988Z"
    }
   },
   "outputs": [
    {
     "data": {
      "text/plain": [
       "<matplotlib.axes._subplots.AxesSubplot at 0x2080dc5e970>"
      ]
     },
     "execution_count": 99,
     "metadata": {},
     "output_type": "execute_result"
    },
    {
     "data": {
      "image/png": "[encoded data removed]",
      "text/plain": [
       "<Figure size 432x288 with 1 Axes>"
      ]
     },
     "metadata": {
      "needs_background": "light"
     },
     "output_type": "display_data"
    }
   ],
   "source": [
    "c=cast\n",
    "c=c[c.name==\"Cary Grant\"].sort_values('year')\n",
    "c.plot(x ='year', y='n', kind=\"scatter\")"
   ]
  },
  {
   "cell_type": "code",
   "execution_count": null,
   "metadata": {},
   "outputs": [],
   "source": []
  },
  {
   "cell_type": "markdown",
   "metadata": {
    "collapsed": true
   },
   "source": [
    "### Plot the n-value of the roles that Sidney Poitier has acted over the years."
   ]
  },
  {
   "cell_type": "code",
   "execution_count": 83,
   "metadata": {
    "ExecuteTime": {
     "end_time": "2020-11-23T17:22:23.322967Z",
     "start_time": "2020-11-23T17:22:22.454801Z"
    }
   },
   "outputs": [
    {
     "data": {
      "text/plain": [
       "<matplotlib.axes._subplots.AxesSubplot at 0x2080eb20f40>"
      ]
     },
     "execution_count": 83,
     "metadata": {},
     "output_type": "execute_result"
    },
    {
     "data": {
      "image/png": "[encoded data removed]",
      "text/plain": [
       "<Figure size 432x288 with 1 Axes>"
      ]
     },
     "metadata": {
      "needs_background": "light"
     },
     "output_type": "display_data"
    }
   ],
   "source": [
    "c=cast\n",
    "c=c[c.name==\"Sidney Poitier\"].sort_values('year')\n",
    "c.plot(x ='year', y='n', kind=\"scatter\")"
   ]
  },
  {
   "cell_type": "markdown",
   "metadata": {
    "collapsed": true
   },
   "source": [
    "### How many leading (n=1) roles were available to actors, and how many to actresses, in the 1950s?"
   ]
  },
  {
   "cell_type": "code",
   "execution_count": 92,
   "metadata": {
    "ExecuteTime": {
     "end_time": "2020-11-23T17:27:19.016266Z",
     "start_time": "2020-11-23T17:27:18.563107Z"
    }
   },
   "outputs": [
    {
     "name": "stdout",
     "output_type": "stream",
     "text": [
      "6375\n",
      "2813\n"
     ]
    }
   ],
   "source": [
    "c=cast\n",
    "c=c[(c.year>=1950)&(c.year<1960)]\n",
    "c=c[c.type==\"actor\"]\n",
    "c=c[c.n==1]\n",
    "print(len(c))\n",
    "c=cast\n",
    "c=c[(c.year>=1950)&(c.year<1960)]\n",
    "c=c[c.type==\"actress\"]\n",
    "c=c[c.n==1]\n",
    "print(len(c))"
   ]
  },
  {
   "cell_type": "markdown",
   "metadata": {
    "collapsed": true
   },
   "source": [
    "### How many supporting (n=2) roles were available to actors, and how many to actresses, in the 1950s?"
   ]
  },
  {
   "cell_type": "code",
   "execution_count": 93,
   "metadata": {
    "ExecuteTime": {
     "end_time": "2020-11-23T17:27:48.895803Z",
     "start_time": "2020-11-23T17:27:48.443034Z"
    }
   },
   "outputs": [
    {
     "name": "stdout",
     "output_type": "stream",
     "text": [
      "4377\n",
      "4399\n"
     ]
    }
   ],
   "source": [
    "c=cast\n",
    "c=c[(c.year>=1950)&(c.year<1960)]\n",
    "c=c[c.type==\"actor\"]\n",
    "c=c[c.n==2]\n",
    "print(len(c))\n",
    "c=cast\n",
    "c=c[(c.year>=1950)&(c.year<1960)]\n",
    "c=c[c.type==\"actress\"]\n",
    "c=c[c.n==2]\n",
    "print(len(c))"
   ]
  }
 ],
 "metadata": {
  "kernelspec": {
   "display_name": "Python 3",
   "language": "python",
   "name": "python3"
  },
  "language_info": {
   "codemirror_mode": {
    "name": "ipython",
    "version": 3
   },
   "file_extension": ".py",
   "mimetype": "text/x-python",
   "name": "python",
   "nbconvert_exporter": "python",
   "pygments_lexer": "ipython3",
   "version": "3.8.3"
  },
  "toc": {
   "base_numbering": 1,
   "nav_menu": {},
   "number_sections": true,
   "sideBar": true,
   "skip_h1_title": false,
   "title_cell": "Table of Contents",
   "title_sidebar": "Contents",
   "toc_cell": false,
   "toc_position": {},
   "toc_section_display": true,
   "toc_window_display": false
  },
  "varInspector": {
   "cols": {
    "lenName": 16,
    "lenType": 16,
    "lenVar": 40
   },
   "kernels_config": {
    "python": {
     "delete_cmd_postfix": "",
     "delete_cmd_prefix": "del ",
     "library": "var_list.py",
     "varRefreshCmd": "print(var_dic_list())"
    },
    "r": {
     "delete_cmd_postfix": ") ",
     "delete_cmd_prefix": "rm(",
     "library": "var_list.r",
     "varRefreshCmd": "cat(var_dic_list()) "
    }
   },
   "types_to_exclude": [
    "module",
    "function",
    "builtin_function_or_method",
    "instance",
    "_Feature"
   ],
   "window_display": false
  }
 },
 "nbformat": 4,
 "nbformat_minor": 1
}
